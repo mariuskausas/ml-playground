{
 "cells": [
  {
   "cell_type": "code",
   "execution_count": 7,
   "id": "58065721-090c-4d71-afbe-d37e71034cff",
   "metadata": {},
   "outputs": [],
   "source": [
    "# Import libraries \n",
    "from tqdm import tqdm\n",
    "\n",
    "import numpy as np\n",
    "from sklearn.model_selection import train_test_split\n",
    "\n",
    "import torch\n",
    "from torch import nn\n",
    "import torch.nn.functional as F\n",
    "import torch.optim as optim\n",
    "import torch.utils.data as data_utils\n",
    "from torch.utils.data import TensorDataset, DataLoader, Subset\n",
    "from torchvision import datasets\n",
    "from torchvision.transforms import Compose, ToTensor\n",
    "\n",
    "import matplotlib.pyplot as plt"
   ]
  },
  {
   "cell_type": "markdown",
   "id": "c13d9047-9c50-44a4-80c1-c3b14af9f0f0",
   "metadata": {},
   "source": [
    "#### 1. Prepare functions for model setup and training"
   ]
  },
  {
   "cell_type": "code",
   "execution_count": 8,
   "id": "87631a02-0819-42fd-b73f-96fd91fdae32",
   "metadata": {},
   "outputs": [],
   "source": [
    "# Define a simple two layer network\n",
    "class LLayerNN(nn.Module):\n",
    "    \"\"\" \n",
    "    Implementation of a general L-layer fully connected neural network.\n",
    "    \"\"\"\n",
    "    \n",
    "    def __init__(self, network_params):\n",
    "        super().__init__()\n",
    "\n",
    "        self.activations = nn.ModuleDict([\n",
    "            ['sigmoid', nn.Sigmoid()],\n",
    "            ['tanh', nn.Tanh()],\n",
    "            ['relu', nn.ReLU()],\n",
    "        ])\n",
    "\n",
    "        blocks = []\n",
    "        for L_param in network_params[:-1]:\n",
    "            blocks.append(self._linear_block(\n",
    "                in_features=L_param[0], \n",
    "                out_features=L_param[1], \n",
    "                activation=L_param[2],\n",
    "                dropout_prob=L_param[3],\n",
    "            ))\n",
    "        self.block = nn.Sequential(*blocks)\n",
    "        \n",
    "        self.linear = nn.Linear(\n",
    "            in_features=network_params[-1][0], \n",
    "            out_features=network_params[-1][1]\n",
    "        )\n",
    "        self.softmax = nn.Softmax(dim=1)\n",
    "\n",
    "    def _linear_block(self, in_features, out_features, activation=\"relu\", dropout_prob=0.0):\n",
    "        \n",
    "        return nn.Sequential(\n",
    "            nn.Linear(in_features=in_features, out_features=out_features),\n",
    "            nn.Dropout(p=dropout_prob),\n",
    "            self.activations[activation],\n",
    "        )\n",
    "        \n",
    "    def forward(self, x):\n",
    "        x = self.block(x)\n",
    "        x = self.linear(x)\n",
    "        output = self.softmax(x)\n",
    "        return output"
   ]
  },
  {
   "cell_type": "code",
   "execution_count": 9,
   "id": "27056109-6ba1-4cac-a306-03e5fc32b1f5",
   "metadata": {},
   "outputs": [],
   "source": [
    "def train_loop(dataloader, model, loss_fn, optimizer):\n",
    "    \"\"\" Perform a training loop.\"\"\"\n",
    "    running_loss = 0\n",
    "    \n",
    "    # Set the model to training mode - important for batch normalization and dropout layers\n",
    "    # Unnecessary in this situation but added for best practices\n",
    "    model.train()\n",
    "    \n",
    "    for batch, (X, y) in enumerate(dataloader):\n",
    "        \n",
    "        # Send the batch samples to a device\n",
    "        X, y = X.to(device), y.to(device)\n",
    "        \n",
    "        # Compute prediction and loss\n",
    "        pred = model(X)\n",
    "        loss = loss_fn(pred, y)\n",
    "        running_loss += loss.item()\n",
    "        \n",
    "        # Backpropagation\n",
    "        loss.backward()\n",
    "        # Update model weights\n",
    "        optimizer.step()\n",
    "        # Re-set gradients to zero for next batch\n",
    "        optimizer.zero_grad()\n",
    "\n",
    "    avg_training_loss = running_loss / len(dataloader)\n",
    "    \n",
    "    return avg_training_loss"
   ]
  },
  {
   "cell_type": "code",
   "execution_count": 10,
   "id": "df6fd7c6-dfe4-4404-84eb-5ba3edd18813",
   "metadata": {},
   "outputs": [],
   "source": [
    "def validation_loop(dataloader, model, loss_fn):\n",
    "    \"\"\" Perform a validation loop.\"\"\"\n",
    "    running_loss = 0\n",
    "    \n",
    "    # Set the model to evaluation mode - important for batch normalization and dropout layers\n",
    "    # Unnecessary in this situation but added for best practices\n",
    "    model.eval()\n",
    "\n",
    "    # Evaluating the model with torch.no_grad() ensures that no gradients are computed during test mode\n",
    "    # also serves to reduce unnecessary gradient computations and memory usage for tensors with requires_grad=True\n",
    "    with torch.no_grad():\n",
    "        for X, y in dataloader:\n",
    "\n",
    "            # Send the batch samples to a device\n",
    "            X, y = X.to(device), y.to(device)\n",
    "            \n",
    "            # Compute prediction and loss\n",
    "            pred = model(X)\n",
    "            loss = loss_fn(pred, y)\n",
    "            running_loss += loss.item()\n",
    "\n",
    "    avg_validation_loss = running_loss / len(dataloader)\n",
    "\n",
    "    return avg_validation_loss"
   ]
  },
  {
   "cell_type": "code",
   "execution_count": 11,
   "id": "e1e19fa9-fc48-4813-81cb-d1c07fa0cdb9",
   "metadata": {},
   "outputs": [],
   "source": [
    "def train_model(training_generator, validation_generator, model, loss_fn, optimizer, epochs):\n",
    "    \n",
    "    # Collect results\n",
    "    training_loss = []\n",
    "    validation_loss = []\n",
    "    \n",
    "    for epoch in tqdm(range(epochs)):  # loop over the dataset multiple times\n",
    "\n",
    "        # Perform a training step\n",
    "        running_training_loss = train_loop(\n",
    "            dataloader=training_generator, \n",
    "            model=model,\n",
    "            loss_fn=loss_fn,\n",
    "            optimizer=optimizer\n",
    "        )\n",
    "        training_loss.append(running_training_loss)\n",
    "\n",
    "        # Perform a validation step\n",
    "        running_validation_loss = validation_loop(\n",
    "            dataloader=validation_generator,\n",
    "            model=model,\n",
    "            loss_fn=loss_fn\n",
    "        )\n",
    "        validation_loss.append(running_validation_loss)\n",
    "\n",
    "    return training_loss, validation_loss"
   ]
  },
  {
   "cell_type": "code",
   "execution_count": 12,
   "id": "1af671c5-8a54-431c-9d0b-d4d4b72ca713",
   "metadata": {},
   "outputs": [],
   "source": [
    "def plot_loss(training_loss, validation_loss, model_id):\n",
    "    \"\"\" Plot training and validation losses.\"\"\"\n",
    "    fig = plt.figure(figsize=[5, 3])\n",
    "    ax = fig.add_subplot(111)\n",
    "    ax.plot(training_loss, label=\"Training loss\")\n",
    "    ax.plot(validation_loss, label=\"Validation loss\")\n",
    "    ax.set_title(\"Model: {}\".format(model_id))\n",
    "    ax.legend()"
   ]
  },
  {
   "cell_type": "code",
   "execution_count": 13,
   "id": "4d6b09f9-8809-4655-b5b8-44759ca25ec8",
   "metadata": {},
   "outputs": [],
   "source": [
    "def test(model, device, test_loader):\n",
    "    model.eval()\n",
    "    test_loss = 0\n",
    "    correct = 0\n",
    "    with torch.no_grad():\n",
    "        for data, target in test_loader:\n",
    "            data, target = data.to(device), target.to(device)\n",
    "            output = model(data)\n",
    "            test_loss += F.cross_entropy(output, target, reduction='sum').item()  # sum up batch loss\n",
    "            pred = output.argmax(dim=1, keepdim=True)  # get the index of the max log-probability\n",
    "            correct += pred.eq(target.view_as(pred)).sum().item()\n",
    "\n",
    "    test_loss /= len(test_loader.dataset)\n",
    "\n",
    "    print('\\nTest set: Average loss: {:.4f}, Accuracy: {}/{} ({:.0f}%)\\n'.format(\n",
    "        test_loss, correct, len(test_loader.dataset),\n",
    "        100. * correct / len(test_loader.dataset)))"
   ]
  },
  {
   "cell_type": "code",
   "execution_count": 14,
   "id": "6f43914b-e1fa-47e4-be3b-20657408cccb",
   "metadata": {},
   "outputs": [],
   "source": [
    "# Define training tools\n",
    "loss_functions = {\n",
    "    \"binary_cross_entropy\": nn.BCELoss,\n",
    "    \"cross_entropy\": nn.CrossEntropyLoss\n",
    "}\n",
    "optimizers = {\n",
    "    \"SGD\": optim.SGD,\n",
    "    \"Adam\": optim.Adam,\n",
    "}\n",
    "# Search for a device\n",
    "device = (\n",
    "    \"cuda:0\"\n",
    "    if torch.cuda.is_available()\n",
    "    else \"cpu\"\n",
    ")"
   ]
  },
  {
   "cell_type": "markdown",
   "id": "954bcecd-69e7-45f2-8dab-a7413b1efd9a",
   "metadata": {},
   "source": [
    "#### 2. Configuration"
   ]
  },
  {
   "cell_type": "code",
   "execution_count": 25,
   "id": "0ca6e599-4a9f-46ac-abe9-ba58df54eced",
   "metadata": {},
   "outputs": [],
   "source": [
    "# Define parameters configuration\n",
    "# https://github.com/victoresque/pytorch-template/blob/master/README.md\n",
    "params = {\n",
    "    \"data_splitting\" : {\n",
    "        # \"train_ratio\": 0.8,\n",
    "        \"validation_ratio\": 0.1,\n",
    "        # \"test_ratio\": 0.1,\n",
    "    },\n",
    "    \n",
    "    \"dataloader\": {\n",
    "        \"batch_size\": 128,\n",
    "        \"shuffle\": True,\n",
    "        \"num_workers\" : 0\n",
    "    },\n",
    "    \n",
    "    \"loss\": {\n",
    "        \"type\": \"cross_entropy\",\n",
    "        \"params\" : {\n",
    "            \"reduction\": \"mean\"\n",
    "        }\n",
    "    },\n",
    "\n",
    "    \"optimizer\": {\n",
    "        \"type\": \"Adam\",\n",
    "        \"params\": {\n",
    "            \"lr\": 0.001,\n",
    "            \"betas\": (0.9, 0.999), \n",
    "            \"eps\": 1e-08,\n",
    "            # \"weight_decay\": 0.001,\n",
    "            # \"momentum\": 0,\n",
    "            # \"weight_decay\": 0.001,\n",
    "        }\n",
    "    },\n",
    "\n",
    "    \"training\": {\n",
    "        \"epochs\" : 20\n",
    "    },\n",
    "}  "
   ]
  },
  {
   "cell_type": "markdown",
   "id": "c20a9fec-0c81-415b-a50e-cb2cfce34f24",
   "metadata": {},
   "source": [
    "#### 3. Prepare training, validation, and test sets"
   ]
  },
  {
   "cell_type": "code",
   "execution_count": 16,
   "id": "9d0f8fd1-9931-41f1-9356-e891e3d5afd9",
   "metadata": {},
   "outputs": [],
   "source": [
    "# Load the training data\n",
    "mnist_train = datasets.MNIST(\n",
    "    root=\"datasets\",\n",
    "    train=True,\n",
    "    download=True,\n",
    "    transform=Compose([\n",
    "        ToTensor(),\n",
    "        torch.flatten,\n",
    "    ]))\n",
    "\n",
    "# Load the test data\n",
    "mnist_test = datasets.MNIST(\n",
    "    root=\"data\",\n",
    "    train=False,\n",
    "    download=True,\n",
    "    transform=Compose([\n",
    "        ToTensor(),\n",
    "        torch.flatten,\n",
    "    ]))"
   ]
  },
  {
   "cell_type": "code",
   "execution_count": 17,
   "id": "1124f607-b7d3-43d8-9cee-d8f842f7bb56",
   "metadata": {},
   "outputs": [],
   "source": [
    "# Generate indices: instead of the actual data we pass in integers instead\n",
    "train_indices, val_indices, _, _ = train_test_split(\n",
    "    range(len(mnist_train)),\n",
    "    mnist_train.targets,\n",
    "    stratify=mnist_train.targets,\n",
    "    test_size=0.1,\n",
    ")"
   ]
  },
  {
   "cell_type": "code",
   "execution_count": 18,
   "id": "9c896510-8e3c-4aea-a201-203b7fea65d2",
   "metadata": {},
   "outputs": [],
   "source": [
    "# Generate a subset based on indices\n",
    "training_dataset = Subset(mnist_train, train_indices)\n",
    "validation_dataset = Subset(mnist_train, val_indices)"
   ]
  },
  {
   "cell_type": "code",
   "execution_count": 19,
   "id": "16e6ff99-3660-4653-9ffc-336a6123e75f",
   "metadata": {},
   "outputs": [],
   "source": [
    "# Create generators\n",
    "training_generator = DataLoader(training_dataset, **params[\"dataloader\"])\n",
    "validation_generator = DataLoader(validation_dataset, **params[\"dataloader\"])\n",
    "test_generator = DataLoader(mnist_test, **params[\"dataloader\"])"
   ]
  },
  {
   "cell_type": "markdown",
   "id": "6ffd8cb6-d822-43dd-8735-fe4252d7add6",
   "metadata": {},
   "source": [
    "#### 4. Initialize the model"
   ]
  },
  {
   "cell_type": "code",
   "execution_count": 20,
   "id": "b59f1d20-92f5-4973-8a20-5442939962b3",
   "metadata": {},
   "outputs": [],
   "source": [
    "# Instantiate a model\n",
    "network_params = [\n",
    "    # [in_f, out_f, activation, dropout_prob]\n",
    "    [28 * 28, 256, \"relu\", 0.0],\n",
    "    [256, 256, \"relu\", 0.0],\n",
    "    [256, 10, \"none\", \"none\"],\n",
    "]\n",
    "model = LLayerNN(network_params=network_params)\n",
    "# Transfer the model to device\n",
    "model.to(device)\n",
    "\n",
    "# Number of epochs\n",
    "epochs = params[\"training\"][\"epochs\"]\n",
    "# Define a binary cross entropy loss\n",
    "loss_fn = loss_functions[params[\"loss\"][\"type\"]](**params[\"loss\"][\"params\"])\n",
    "# Define a stochastic gradient descent as an optimizer\n",
    "optimizer = optimizers[params[\"optimizer\"][\"type\"]](model.parameters(), **params[\"optimizer\"][\"params\"])"
   ]
  },
  {
   "cell_type": "markdown",
   "id": "192cce0f-5444-44f8-9a6d-265f39988cd8",
   "metadata": {},
   "source": [
    "#### 5. Train the model and check performance"
   ]
  },
  {
   "cell_type": "code",
   "execution_count": 21,
   "id": "ebaa739e-371c-4a15-a348-938ec5188c23",
   "metadata": {},
   "outputs": [
    {
     "name": "stderr",
     "output_type": "stream",
     "text": [
      "100%|██████████████████████████████████████████████████████████████████████████████████████████████████████████████████████████████████| 20/20 [01:02<00:00,  3.14s/it]\n"
     ]
    }
   ],
   "source": [
    "# Train and evaluate the model\n",
    "training_loss, validation_loss = train_model(\n",
    "    training_generator=training_generator, \n",
    "    validation_generator=validation_generator, \n",
    "    model=model, \n",
    "    loss_fn=loss_fn, \n",
    "    optimizer=optimizer, \n",
    "    epochs=epochs\n",
    ")"
   ]
  },
  {
   "cell_type": "code",
   "execution_count": 22,
   "id": "4c59eb75-7f1f-4860-a36b-20edb5877e65",
   "metadata": {},
   "outputs": [
    {
     "data": {
      "image/png": "[encoded data removed]",
      "text/plain": [
       "<Figure size 500x300 with 1 Axes>"
      ]
     },
     "metadata": {},
     "output_type": "display_data"
    }
   ],
   "source": [
    "plot_loss(training_loss, validation_loss, \"LLayer\")"
   ]
  },
  {
   "cell_type": "code",
   "execution_count": 24,
   "id": "f890f148-68d3-4cc3-b228-402a43f2a72b",
   "metadata": {},
   "outputs": [
    {
     "name": "stdout",
     "output_type": "stream",
     "text": [
      "\n",
      "Test set: Average loss: 1.4828, Accuracy: 9783/10000 (98%)\n",
      "\n"
     ]
    }
   ],
   "source": [
    "test(model=model, device=device, test_loader=test_generator)"
   ]
  },
  {
   "cell_type": "code",
   "execution_count": null,
   "id": "35936cee-6d4b-4d56-b691-6cef4297f7c7",
   "metadata": {},
   "outputs": [],
   "source": []
  }
 ],
 "metadata": {
  "kernelspec": {
   "display_name": "Python [conda env:aiml]",
   "language": "python",
   "name": "conda-env-aiml-py"
  },
  "language_info": {
   "codemirror_mode": {
    "name": "ipython",
    "version": 3
   },
   "file_extension": ".py",
   "mimetype": "text/x-python",
   "name": "python",
   "nbconvert_exporter": "python",
   "pygments_lexer": "ipython3",
   "version": "3.11.9"
  }
 },
 "nbformat": 4,
 "nbformat_minor": 5
}
