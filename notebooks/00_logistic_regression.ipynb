{
 "cells": [
  {
   "cell_type": "code",
   "execution_count": 1,
   "id": "d4546716-c24d-4b29-9175-fb65821ddbb3",
   "metadata": {},
   "outputs": [],
   "source": [
    "# Import libraries \n",
    "import numpy as np\n",
    "from sklearn.model_selection import train_test_split\n",
    "from sklearn.linear_model import LogisticRegression\n",
    "import torch\n",
    "from torch import nn\n",
    "import matplotlib.pyplot as plt"
   ]
  },
  {
   "cell_type": "markdown",
   "id": "7c5e915a-61db-471a-963a-c8e1b9ab4d06",
   "metadata": {},
   "source": [
    "#### 0. To do:"
   ]
  },
  {
   "cell_type": "markdown",
   "id": "4239db0f-4301-4eb8-a9db-ee25c7bbe6bd",
   "metadata": {},
   "source": [
    "- Investigate probabilities of predicted labels.\n",
    "- Convert logistic regression into pytorch.\n",
    "- Explore how learning rate affects data fitting.\n",
    "- Use a more complicated example, e.g., protein related?\n",
    "- Implement a simple neural network using PyTorch for classfication.\n",
    "- Implement boundary decision plotting."
   ]
  },
  {
   "cell_type": "markdown",
   "id": "8e046e79-a367-44ba-884c-795141202d2f",
   "metadata": {},
   "source": [
    "#### I. Generate training data."
   ]
  },
  {
   "cell_type": "markdown",
   "id": "05cd9181-bb13-4cc4-bdbc-13f77ff7bbf5",
   "metadata": {},
   "source": [
    "Understanding the data input:\n",
    "- `X` denotes the training dataset, where each column represents number of examples (`m`), whilst each row represents features (`n_x`). `X` has a shape of `(n_x, m)`. For instance, `X` has 100 examples with 2 features each.\n",
    "- `Y` represents the output with a shape `(1, m)`."
   ]
  },
  {
   "cell_type": "code",
   "execution_count": 2,
   "id": "a8ed0652-1b15-41f6-902f-bce8d9e51d2d",
   "metadata": {},
   "outputs": [],
   "source": [
    "# Generate sample data for logistic regression\n",
    "# X\n",
    "np.random.seed(0)\n",
    "cloud_1 = np.random.multivariate_normal(mean=[0, 0], cov=[[1, 0],[0, 1]], size=100)\n",
    "cloud_2 = np.random.multivariate_normal(mean=[4, 0], cov=[[1, 0],[0, 1]], size=100)\n",
    "X = np.vstack((cloud_1, cloud_2)).T\n",
    "# Y\n",
    "cloud_1_y = np.zeros((1, cloud_1.shape[0]))\n",
    "cloud_2_y = np.ones((1, cloud_2.shape[0]))\n",
    "Y = np.hstack((cloud_1_y, cloud_2_y))"
   ]
  },
  {
   "cell_type": "code",
   "execution_count": 3,
   "id": "cde15c12-3aa8-4f1b-8664-2b161a947710",
   "metadata": {},
   "outputs": [],
   "source": [
    "# Split sample data into train and test\n",
    "X_train, X_test, Y_train, Y_test = train_test_split(X.T, Y.T, test_size=0.2, random_state=0)\n",
    "X_train = X_train.T\n",
    "X_test = X_test.T\n",
    "Y_train = Y_train.T\n",
    "Y_test = Y_test.T"
   ]
  },
  {
   "cell_type": "code",
   "execution_count": 4,
   "id": "9be61a61-57d7-40fb-b794-9fbc21bb8b9d",
   "metadata": {},
   "outputs": [
    {
     "ename": "NameError",
     "evalue": "name 'y_train' is not defined",
     "output_type": "error",
     "traceback": [
      "\u001b[0;31m---------------------------------------------------------------------------\u001b[0m",
      "\u001b[0;31mNameError\u001b[0m                                 Traceback (most recent call last)",
      "Cell \u001b[0;32mIn[4], line 2\u001b[0m\n\u001b[1;32m      1\u001b[0m \u001b[38;5;66;03m# Plot as a scatter plot\u001b[39;00m\n\u001b[0;32m----> 2\u001b[0m plt\u001b[38;5;241m.\u001b[39mscatter(X_train[\u001b[38;5;241m0\u001b[39m, :], X_train[\u001b[38;5;241m1\u001b[39m, :], c\u001b[38;5;241m=\u001b[39m\u001b[43my_train\u001b[49m, cmap\u001b[38;5;241m=\u001b[39m\u001b[38;5;124m\"\u001b[39m\u001b[38;5;124mcoolwarm\u001b[39m\u001b[38;5;124m\"\u001b[39m, label\u001b[38;5;241m=\u001b[39m\u001b[38;5;124m\"\u001b[39m\u001b[38;5;124mtrain\u001b[39m\u001b[38;5;124m\"\u001b[39m)\n\u001b[1;32m      3\u001b[0m plt\u001b[38;5;241m.\u001b[39mscatter(X_test[\u001b[38;5;241m0\u001b[39m, :], X_test[\u001b[38;5;241m1\u001b[39m, :], edgecolors\u001b[38;5;241m=\u001b[39m\u001b[38;5;124m\"\u001b[39m\u001b[38;5;124mk\u001b[39m\u001b[38;5;124m\"\u001b[39m, c\u001b[38;5;241m=\u001b[39my_test, cmap\u001b[38;5;241m=\u001b[39m\u001b[38;5;124m\"\u001b[39m\u001b[38;5;124mcoolwarm\u001b[39m\u001b[38;5;124m\"\u001b[39m, label\u001b[38;5;241m=\u001b[39m\u001b[38;5;124m\"\u001b[39m\u001b[38;5;124mtest\u001b[39m\u001b[38;5;124m\"\u001b[39m)\n\u001b[1;32m      4\u001b[0m plt\u001b[38;5;241m.\u001b[39mlegend()\n",
      "\u001b[0;31mNameError\u001b[0m: name 'y_train' is not defined"
     ]
    }
   ],
   "source": [
    "# Plot as a scatter plot\n",
    "plt.scatter(X_train[0, :], X_train[1, :], c=y_train, cmap=\"coolwarm\", label=\"train\")\n",
    "plt.scatter(X_test[0, :], X_test[1, :], edgecolors=\"k\", c=y_test, cmap=\"coolwarm\", label=\"test\")\n",
    "plt.legend()"
   ]
  },
  {
   "cell_type": "markdown",
   "id": "caee5471-d098-4e9b-9cbb-210c2dd1dbab",
   "metadata": {},
   "source": [
    "#### II. Implement a logistic regression model using `numpy` and compare it with `scikit-learn` implementation."
   ]
  },
  {
   "cell_type": "markdown",
   "id": "57c427a3-a944-4283-9e9a-5b0ed0f3d9bf",
   "metadata": {},
   "source": [
    "#### Mathematical expression of the algorithm:\n",
    "\n",
    "For one example $x^{(i)}$:\n",
    "$$z^{(i)} = w^T x^{(i)} + b \\tag{1}$$\n",
    "$$\\hat{y}^{(i)} = a^{(i)} = sigmoid(z^{(i)})\\tag{2}$$ \n",
    "$$ \\mathcal{L}(a^{(i)}, y^{(i)}) =  - y^{(i)}  \\log(a^{(i)}) - (1-y^{(i)} )  \\log(1-a^{(i)})\\tag{3}$$\n",
    "\n",
    "The cost is then computed by summing over all training examples:\n",
    "$$ J = \\frac{1}{m} \\sum_{i=1}^m \\mathcal{L}(a^{(i)}, y^{(i)})\\tag{6}$$\n",
    "\n",
    "#### Forward Propagation:\n",
    "- You get X\n",
    "- You compute $A = \\sigma(w^T X + b) = (a^{(1)}, a^{(2)}, ..., a^{(m-1)}, a^{(m)})$\n",
    "- You calculate the cost function: $J = -\\frac{1}{m}\\sum_{i=1}^{m}(y^{(i)}\\log(a^{(i)})+(1-y^{(i)})\\log(1-a^{(i)}))$\n",
    "\n",
    "Compute parameter gradients with respect to the cost: \n",
    "\n",
    "$$ \\frac{\\partial J}{\\partial w} = \\frac{1}{m}X(A-Y)^T\\tag{7}$$\n",
    "$$ \\frac{\\partial J}{\\partial b} = \\frac{1}{m} \\sum_{i=1}^m (a^{(i)}-y^{(i)})\\tag{8}$$\n",
    "\n",
    "#### Optimize:\n",
    "The goal is to learn $w$ and $b$ by minimizing the cost function $J$. For a parameter $\\theta$, the update rule is $ \\theta = \\theta - \\alpha \\text{ } d\\theta$, where $\\alpha$ is the learning rate.\n",
    "\n",
    "#### Predict:\n",
    "Use previosuly learnt parameters `W` and `b` to predict labels for test data. There are two steps to computing predictions:\n",
    "\n",
    "1. Calculate $\\hat{Y} = A = \\sigma(w^T X + b)$\n",
    "\n",
    "2. Convert the entries of a into 0 (if activation <= 0.5) or 1 (if activation > 0.5), stores the predictions in a vector `Y_prediction`."
   ]
  },
  {
   "cell_type": "code",
   "execution_count": 5,
   "id": "17bd4e44-b292-43a7-b543-4c0b14cabac4",
   "metadata": {},
   "outputs": [],
   "source": [
    "def sigmoid(x):\n",
    "    \"\"\" Transform a given value(s) using a sigmoid function.\"\"\"\n",
    "    return 1 / (1 + np.exp(-x))\n",
    "\n",
    "def initialize_weights(dim):\n",
    "    \"\"\" \n",
    "    Initialize weights and biases for logistic regression model.\n",
    "    \n",
    "    Parameters\n",
    "    ----------\n",
    "    dim : int\n",
    "        Size of a weights np.ndarray of shape (dim, 1)\n",
    "    \n",
    "    Returns\n",
    "    -------\n",
    "    W, b : nd.array, float\n",
    "        Zero matrix of shape (dim, 1) and float value of 0.0\n",
    "        corresponding to weights and bias term, respectively.\n",
    "    \"\"\"\n",
    "    \n",
    "    W = np.zeros((dim, 1))\n",
    "    b = 0.0\n",
    "    \n",
    "    return W, b\n",
    "\n",
    "def forward_propagation(X, Y, W, b):\n",
    "    \"\"\" \n",
    "    Perform a forward propagation and compute the gradient.\n",
    "\n",
    "    Parameters\n",
    "    ----------\n",
    "    X : nd.array\n",
    "        Examples matrix of a shape(n_x, m).\n",
    "    Y : nd.array\n",
    "        Labels matrix of a shape(1, m).\n",
    "    W : nd.array\n",
    "        Weights matrix of a shape(dim, 1).\n",
    "    b : float\n",
    "        Bias term.\n",
    "\n",
    "    Returns\n",
    "    -------\n",
    "    cost : float\n",
    "        Cost value of a single propagation pass.\n",
    "    dW : float\n",
    "        Weights gradient with respect to the cost.\n",
    "    db : float\n",
    "        Bias gradient with respect to the cost.\n",
    "    \"\"\"\n",
    "\n",
    "    # Get the number of training examples\n",
    "    m = X.shape[0]\n",
    "\n",
    "    # Compute the forward propagation\n",
    "    Z = np.dot(W.T, X) + b\n",
    "    A = sigmoid(Z)\n",
    "\n",
    "    # Compute the cost over all training examples\n",
    "    cost = -1 / m * np.sum(Y * np.log(A) + (1 - Y) * np.log(1 - A))\n",
    "    \n",
    "    # Compute the gradients\n",
    "    dW = 1 / m * np.dot(X, (A - Y).T)\n",
    "    db = 1 / m * np.sum(A - Y)\n",
    "    \n",
    "    return cost, dW, db\n",
    "\n",
    "def optimize(X, Y, W, b, num_iterations=100, learning_rate=0.001):\n",
    "    \"\"\" \n",
    "    Perform optimization of a logistic regression model.\n",
    "\n",
    "    Parameters\n",
    "    ----------\n",
    "    X : nd.array\n",
    "        Examples matrix of a shape(n_x, m).\n",
    "    Y : nd.array\n",
    "        Labels matrix of a shape(1, m).\n",
    "    W : nd.array\n",
    "        Weights matrix of a shape(dim, 1).\n",
    "    b : float\n",
    "        Bias term.\n",
    "    num_iterations : int\n",
    "        Number of iterations to optimize the model.\n",
    "    learning_rate : float\n",
    "        Learning rate for the parameter update rule.\n",
    "\n",
    "    Returns\n",
    "    -------\n",
    "    params : dict\n",
    "        Dictionary of values containing optimized parameters, \"W\" and \"b\".\n",
    "    grads : dict\n",
    "        Dictionary of values containing gradients, \"dW\" and \"db\".\n",
    "    \"\"\"\n",
    "\n",
    "    # Update parameters, compute gradients, and collect cost\n",
    "    costs = []\n",
    "    for i in range(num_iterations):\n",
    "        cost, dW, db = forward_propagation(X, Y, W, b)\n",
    "        W = W - learning_rate * dW\n",
    "        b = b - learning_rate * db\n",
    "        costs.append(cost)\n",
    "\n",
    "    # Collect parameters and gradients\n",
    "    params = {\"W\": W, \"b\": b}\n",
    "    grads = {\"dW\": dW, \"db\": db}\n",
    "    \n",
    "    return params, grads, costs\n",
    "\n",
    "def predict(X, W, b):\n",
    "    \"\"\" \n",
    "    Predict labels.\n",
    "\n",
    "    Parameters\n",
    "    ----------\n",
    "    X : nd.array\n",
    "        Examples matrix of a shape(n_x, m).\n",
    "    W : nd.array\n",
    "        Weights matrix of a shape(dim, 1).\n",
    "    b : float\n",
    "        Bias term.\n",
    "\n",
    "    Returns\n",
    "    -------\n",
    "    Y_prediction : nd.array\n",
    "        Predicted labels (0, or 1) matrix of a shape(1, m).\n",
    "    \"\"\"\n",
    "\n",
    "    # Use previously learnt parameters\n",
    "    Z = np.dot(W.T, X) + b\n",
    "    A = sigmoid(Z)\n",
    "\n",
    "    # Convert predictions probabilities to either 0 or 1\n",
    "    A[A <= 0.5] = 0\n",
    "    A[A > 0.5] = 1\n",
    "    Y_prediction = A\n",
    "    \n",
    "    return Y_prediction\n",
    "\n",
    "def model(X_train, Y_train, X_test, Y_test, num_iterations=100, learning_rate=0.001):\n",
    "    \"\"\" \n",
    "    Train a model and get back the costs and Y predictions for training and test sets.\n",
    "\n",
    "    Parameters\n",
    "    ----------\n",
    "    X_train : nd.array\n",
    "        Training examples matrix with a shape(n_x, m).\n",
    "    Y_train : nd.array\n",
    "        Training labels matrix with a shape(1, m).\n",
    "    X_test : nd.array\n",
    "        Test examples matrix with a shape(n_x, m).\n",
    "    Y_test : nd.array\n",
    "        Test labels matrix with a shape(1, m).\n",
    "    num_iterations : int\n",
    "        Number of iterations to optimize the model.\n",
    "    learning_rate : float\n",
    "        Learning rate for the parameter update rule.\n",
    "    \n",
    "    Parameters\n",
    "    ----------\n",
    "    costs : list\n",
    "        A list of costs for each iteration.\n",
    "    Y_prediction_train : nd.array\n",
    "        Predicted training labels (0, or 1) matrix of a shape(1, m).\n",
    "    Y_prediction_test : nd.array\n",
    "        Predicted test labels (0, or 1) matrix of a shape(1, m).\n",
    "    \"\"\"\n",
    "    \n",
    "    # Initialize weights\n",
    "    W, b = initialize_weights(dim=X_train.shape[0])\n",
    "    \n",
    "    # Optimize parameters and compute the cost\n",
    "    params, grads, costs = optimize(X=X_train, Y=Y_train, W=W, b=b, num_iterations=num_iterations, learning_rate=learning_rate)\n",
    "\n",
    "    # Make a prediction about training and test sets\n",
    "    W_opt = params[\"W\"]\n",
    "    b_opt = params[\"b\"]\n",
    "    Y_prediction_train = predict(X=X_train, W=W_opt, b=b_opt)\n",
    "    Y_prediction_test = predict(X=X_test, W=W_opt, b=b_opt)\n",
    "    \n",
    "    return costs, Y_prediction_train, Y_prediction_test"
   ]
  },
  {
   "cell_type": "code",
   "execution_count": 6,
   "id": "5b77ff05-c993-40c3-9d89-663b6f40eff3",
   "metadata": {},
   "outputs": [
    {
     "name": "stdout",
     "output_type": "stream",
     "text": [
      "Train accuracy: 96.25\n",
      "Test accuracy: 97.5\n"
     ]
    }
   ],
   "source": [
    "# Run the model\n",
    "costs, Y_prediction_train, Y_prediction_test = model(\n",
    "    X_train=X_train,\n",
    "    Y_train=Y_train,\n",
    "    X_test=X_test,\n",
    "    Y_test=Y_test,\n",
    "    num_iterations=1000,\n",
    "    learning_rate=0.001\n",
    ")\n",
    "# Compute the accuracy for training and test sets\n",
    "train_accuracy = 100 - np.mean(np.abs(Y_prediction_train - Y_train)) * 100\n",
    "test_accuracy = 100 - np.mean(np.abs(Y_prediction_test - Y_test)) * 100\n",
    "print(\"Train accuracy: {}\".format(train_accuracy))\n",
    "print(\"Test accuracy: {}\".format(test_accuracy))"
   ]
  },
  {
   "cell_type": "code",
   "execution_count": 7,
   "id": "b89253e3-6155-43d3-ba7d-6dfb4177469b",
   "metadata": {},
   "outputs": [
    {
     "data": {
      "text/plain": [
       "<matplotlib.collections.PathCollection at 0x7fc773cc6a50>"
      ]
     },
     "execution_count": 7,
     "metadata": {},
     "output_type": "execute_result"
    },
    {
     "data": {
      "image/png": "[encoded data removed]",
      "text/plain": [
       "<Figure size 640x480 with 1 Axes>"
      ]
     },
     "metadata": {},
     "output_type": "display_data"
    }
   ],
   "source": [
    "# Plot values that have been mislabeled\n",
    "mask_train = np.abs(Y_prediction_train - Y_train) == 1\n",
    "mask_test = np.abs(Y_prediction_test - Y_test) == 1\n",
    "\n",
    "X_train_masked = X_train[:, mask_train[0]]\n",
    "X_test_masked = X_test[:, mask_test[0]]\n",
    "\n",
    "plt.scatter(X_train[0, :], X_train[1, :], c=Y_train, cmap=\"coolwarm\")\n",
    "plt.scatter(X_train[0, :], X_train[1, :], c=Y_train, cmap=\"coolwarm\")\n",
    "plt.scatter(X_train_masked[0, :], X_train_masked[1, :], color=\"salmon\", edgecolor=\"k\")\n",
    "plt.scatter(X_test_masked[0, :], X_test_masked[1, :], color=\"aliceblue\", edgecolor=\"k\")"
   ]
  },
  {
   "cell_type": "code",
   "execution_count": 18,
   "id": "65aac68d-8ccc-4f72-a227-48d981ed99df",
   "metadata": {},
   "outputs": [
    {
     "data": {
      "text/plain": [
       "Text(0, 0.5, 'Cost')"
      ]
     },
     "execution_count": 18,
     "metadata": {},
     "output_type": "execute_result"
    },
    {
     "data": {
      "image/png": "[encoded data removed]",
      "text/plain": [
       "<Figure size 640x480 with 1 Axes>"
      ]
     },
     "metadata": {},
     "output_type": "display_data"
    }
   ],
   "source": [
    "plt.plot(costs)\n",
    "plt.xlabel(\"# Iterations\")\n",
    "plt.ylabel(\"Cost\")"
   ]
  },
  {
   "cell_type": "code",
   "execution_count": 19,
   "id": "b5d15258-11fa-41b6-b34f-917c7a2183d4",
   "metadata": {},
   "outputs": [
    {
     "name": "stdout",
     "output_type": "stream",
     "text": [
      "Train accuracy: 96.25\n",
      "Test accuracy: 97.5\n"
     ]
    },
    {
     "name": "stderr",
     "output_type": "stream",
     "text": [
      "/home/kausasm/miniconda3/envs/aiml/lib/python3.11/site-packages/sklearn/utils/validation.py:1300: DataConversionWarning: A column-vector y was passed when a 1d array was expected. Please change the shape of y to (n_samples, ), for example using ravel().\n",
      "  y = column_or_1d(y, warn=True)\n"
     ]
    }
   ],
   "source": [
    "# Run a logistic regression using scikit-learn\n",
    "# Fit the model\n",
    "clf = LogisticRegression(\n",
    "    penalty=None, \n",
    "    random_state=0\n",
    ")\n",
    "clf.fit(X_train.T, Y_train.T)\n",
    "# Predict labe;s\n",
    "Y_prediction_train_sklearn = clf.predict(X_train.T)\n",
    "Y_prediction_test_sklearn = clf.predict(X_test.T)\n",
    "# Compute model accuracy for training and test training sets\n",
    "train_accuracy = 100 - np.mean(np.abs(Y_prediction_train_sklearn - Y_train)) * 100\n",
    "test_accuracy = 100 - np.mean(np.abs(Y_prediction_test_sklearn - Y_test)) * 100\n",
    "print(\"Train accuracy: {}\".format(train_accuracy))\n",
    "print(\"Test accuracy: {}\".format(test_accuracy))"
   ]
  },
  {
   "cell_type": "code",
   "execution_count": 172,
   "id": "527dd5a4-8f7b-471b-a71a-39f99dc9da75",
   "metadata": {},
   "outputs": [
    {
     "data": {
      "text/plain": [
       "<matplotlib.collections.PathCollection at 0x7f1033622290>"
      ]
     },
     "execution_count": 172,
     "metadata": {},
     "output_type": "execute_result"
    },
    {
     "data": {
      "image/png": "[encoded data removed]",
      "text/plain": [
       "<Figure size 640x480 with 1 Axes>"
      ]
     },
     "metadata": {},
     "output_type": "display_data"
    }
   ],
   "source": [
    "# Plot values that have been mislabeled\n",
    "mask_train = np.abs(Y_prediction_train_sklearn - Y_train) == 1\n",
    "mask_test = np.abs(Y_prediction_test_sklearn - Y_test) == 1\n",
    "\n",
    "X_train_masked = X_train[:, mask_train[0]]\n",
    "X_test_masked = X_test[:, mask_test[0]]\n",
    "\n",
    "plt.scatter(X_train[0, :], X_train[1, :], c=y_train, cmap=\"coolwarm\")\n",
    "plt.scatter(X_train[0, :], X_train[1, :], c=y_train, cmap=\"coolwarm\")\n",
    "plt.scatter(X_train_masked[0, :], X_train_masked[1, :], color=\"salmon\", edgecolor=\"k\")\n",
    "plt.scatter(X_test_masked[0, :], X_test_masked[1, :], color=\"aliceblue\", edgecolor=\"k\")"
   ]
  },
  {
   "cell_type": "markdown",
   "id": "3105c712-d719-4f62-9cdb-05689145402f",
   "metadata": {},
   "source": [
    "#### II. Implement a logistic regression using `pytorch` "
   ]
  },
  {
   "cell_type": "code",
   "execution_count": 100,
   "id": "3dba1571-f5b2-4663-ab11-777fc6472cf8",
   "metadata": {},
   "outputs": [],
   "source": [
    "def sigmoid_torch(x):\n",
    "    \"\"\" Transform a given value(s) using a sigmoid function.\"\"\"\n",
    "    return torch.sigmoid(x)\n",
    "\n",
    "def initialize_weights_torch(dim):\n",
    "    \"\"\" \n",
    "    Initialize weights and biases for logistic regression model.\n",
    "    \n",
    "    Parameters\n",
    "    ----------\n",
    "    dim : int\n",
    "        Size of a weights np.ndarray of shape (dim, 1)\n",
    "    \n",
    "    Returns\n",
    "    -------\n",
    "    W, b : torch.Tensor, float\n",
    "        Zero matrix of shape (dim, 1) and float value of 0.0\n",
    "        corresponding to weights and bias term, respectively.\n",
    "    \"\"\"\n",
    "    \n",
    "    W = torch.zeros((dim, 1))\n",
    "    b = 0.0\n",
    "    \n",
    "    return W, b\n",
    "\n",
    "def forward_propagation_torch(X, Y, W, b):\n",
    "    \"\"\" \n",
    "    Perform a forward propagation and compute the gradient.\n",
    "\n",
    "    Parameters\n",
    "    ----------\n",
    "    X : torch.Tensor\n",
    "        Examples matrix of a shape(n_x, m).\n",
    "    Y : torch.Tensor\n",
    "        Labels matrix of a shape(1, m).\n",
    "    W : torch.Tensor\n",
    "        Weights matrix of a shape(dim, 1).\n",
    "    b : float\n",
    "        Bias term.\n",
    "\n",
    "    Returns\n",
    "    -------\n",
    "    cost : float\n",
    "        Cost value of a single propagation pass.\n",
    "    dW : float\n",
    "        Weights gradient with respect to the cost.\n",
    "    db : float\n",
    "        Bias gradient with respect to the cost.\n",
    "    \"\"\"\n",
    "\n",
    "    # Get the number of training examples\n",
    "    m = X.shape[0]\n",
    "\n",
    "    # Compute the forward propagation\n",
    "    Z = torch.tensordot(W.T, X, dims=1) + b\n",
    "    A = sigmoid_torch(Z)\n",
    "\n",
    "    # Compute the cost over all training examples\n",
    "    cost = -1 / m * torch.sum(Y * torch.log(A) + (1 - Y) * torch.log(1 - A))\n",
    "    \n",
    "    # Compute the gradients\n",
    "    dW = 1 / m * torch.tensordot(X, (A - Y).T, dims=1)\n",
    "    db = 1 / m * torch.sum(A - Y)\n",
    "    \n",
    "    return cost, dW, db\n",
    "\n",
    "def optimize_torch(X, Y, W, b, num_iterations=100, learning_rate=0.001):\n",
    "    \"\"\" \n",
    "    Perform optimization of a logistic regression model.\n",
    "\n",
    "    Parameters\n",
    "    ----------\n",
    "    X : torch.tensor\n",
    "        Examples matrix of a shape(n_x, m).\n",
    "    Y : torch.tensor\n",
    "        Labels matrix of a shape(1, m).\n",
    "    W : torch.tensor\n",
    "        Weights matrix of a shape(dim, 1).\n",
    "    b : float\n",
    "        Bias term.\n",
    "    num_iterations : int\n",
    "        Number of iterations to optimize the model.\n",
    "    learning_rate : float\n",
    "        Learning rate for the parameter update rule.\n",
    "\n",
    "    Returns\n",
    "    -------\n",
    "    params : dict\n",
    "        Dictionary of values containing optimized parameters, \"W\" and \"b\".\n",
    "    grads : dict\n",
    "        Dictionary of values containing gradients, \"dW\" and \"db\".\n",
    "    \"\"\"\n",
    "\n",
    "    # Update parameters, compute gradients, and collect cost\n",
    "    costs = []\n",
    "    for i in range(num_iterations):\n",
    "        cost, dW, db = forward_propagation_torch(X, Y, W, b)\n",
    "        W = W - learning_rate * dW\n",
    "        b = b - learning_rate * db\n",
    "        costs.append(cost)\n",
    "\n",
    "    # Collect parameters and gradients\n",
    "    params = {\"W\": W, \"b\": b}\n",
    "    grads = {\"dW\": dW, \"db\": db}\n",
    "    \n",
    "    return params, grads, costs\n",
    "\n",
    "def predict_torch(X, W, b):\n",
    "    \"\"\" \n",
    "    Predict labels.\n",
    "\n",
    "    Parameters\n",
    "    ----------\n",
    "    X : torch.tensor\n",
    "        Examples matrix of a shape(n_x, m).\n",
    "    W : torch.tensor\n",
    "        Weights matrix of a shape(dim, 1).\n",
    "    b : float\n",
    "        Bias term.\n",
    "\n",
    "    Returns\n",
    "    -------\n",
    "    Y_prediction : nd.array\n",
    "        Predicted labels (0, or 1) matrix of a shape(1, m).\n",
    "    \"\"\"\n",
    "\n",
    "    # Use previously learnt parameters\n",
    "    Z = torch.tensordot(W.T, X, dims=1) + b\n",
    "    A = sigmoid_torch(Z)\n",
    "\n",
    "    # Convert predictions probabilities to either 0 or 1\n",
    "    A[A <= 0.5] = 0\n",
    "    A[A > 0.5] = 1\n",
    "    Y_prediction = A\n",
    "    \n",
    "    return Y_prediction\n",
    "\n",
    "def model_torch(X_train, Y_train, X_test, Y_test, num_iterations=100, learning_rate=0.001):\n",
    "    \"\"\" \n",
    "    Train a model and get back the costs and Y predictions for training and test sets.\n",
    "\n",
    "    Parameters\n",
    "    ----------\n",
    "    X_train : torch.tensor\n",
    "        Training examples matrix with a shape(n_x, m).\n",
    "    Y_train : torch.tensor\n",
    "        Training labels matrix with a shape(1, m).\n",
    "    X_test : torch.tensor\n",
    "        Test examples matrix with a shape(n_x, m).\n",
    "    Y_test : torch.tensor\n",
    "        Test labels matrix with a shape(1, m).\n",
    "    num_iterations : int\n",
    "        Number of iterations to optimize the model.\n",
    "    learning_rate : float\n",
    "        Learning rate for the parameter update rule.\n",
    "    \n",
    "    Parameters\n",
    "    ----------\n",
    "    costs : list\n",
    "        A list of costs for each iteration.\n",
    "    Y_prediction_train : torch.tensor\n",
    "        Predicted training labels (0, or 1) matrix of a shape(1, m).\n",
    "    Y_prediction_test : torch.tensor\n",
    "        Predicted test labels (0, or 1) matrix of a shape(1, m).\n",
    "    \"\"\"\n",
    "    \n",
    "    # Initialize weights\n",
    "    W, b = initialize_weights_torch(dim=X_train.shape[0])\n",
    "    \n",
    "    # Optimize parameters and compute the cost\n",
    "    params, grads, costs = optimize_torch(X=X_train, Y=Y_train, W=W, b=b, num_iterations=num_iterations, learning_rate=learning_rate)\n",
    "\n",
    "    # Make a prediction about training and test sets\n",
    "    W_opt = params[\"W\"]\n",
    "    b_opt = params[\"b\"]\n",
    "    Y_prediction_train = predict_torch(X=X_train, W=W_opt, b=b_opt)\n",
    "    Y_prediction_test = predict_torch(X=X_test, W=W_opt, b=b_opt)\n",
    "    \n",
    "    return costs, Y_prediction_train, Y_prediction_test"
   ]
  },
  {
   "cell_type": "code",
   "execution_count": 101,
   "id": "964585e5-8541-410f-ac52-a6def278a031",
   "metadata": {},
   "outputs": [],
   "source": [
    "# Convert training and test sets to torch.tensor\n",
    "X_train_tensor = torch.from_numpy(X_train).float()\n",
    "X_test_tensor = torch.from_numpy(X_test).float()\n",
    "Y_train_tensor = torch.from_numpy(Y_train).float()\n",
    "Y_test_tensor = torch.from_numpy(Y_test).float()"
   ]
  },
  {
   "cell_type": "code",
   "execution_count": 104,
   "id": "1d41ad60-3ef3-45e9-885c-73e864297a5c",
   "metadata": {},
   "outputs": [
    {
     "name": "stdout",
     "output_type": "stream",
     "text": [
      "Train accuracy: 96.25\n",
      "Test accuracy: 97.5\n"
     ]
    }
   ],
   "source": [
    "# Run the model\n",
    "costs, Y_prediction_train, Y_prediction_test = model_torch(\n",
    "    X_train=X_train_tensor,\n",
    "    Y_train=Y_train_tensor,\n",
    "    X_test=X_test_tensor,\n",
    "    Y_test=Y_test_tensor,\n",
    "    num_iterations=1000,\n",
    "    learning_rate=0.001\n",
    ")\n",
    "# Compute the accuracy for training and test sets\n",
    "train_accuracy = 100 - torch.mean(torch.abs(Y_prediction_train - Y_train)) * 100\n",
    "test_accuracy = 100 - torch.mean(torch.abs(Y_prediction_test - Y_test)) * 100\n",
    "print(\"Train accuracy: {}\".format(train_accuracy))\n",
    "print(\"Test accuracy: {}\".format(test_accuracy))"
   ]
  },
  {
   "cell_type": "code",
   "execution_count": null,
   "id": "2804a8a0-48f8-479c-b91b-a5046d18b5a0",
   "metadata": {},
   "outputs": [],
   "source": []
  }
 ],
 "metadata": {
  "kernelspec": {
   "display_name": "Python [conda env:aiml]",
   "language": "python",
   "name": "conda-env-aiml-py"
  },
  "language_info": {
   "codemirror_mode": {
    "name": "ipython",
    "version": 3
   },
   "file_extension": ".py",
   "mimetype": "text/x-python",
   "name": "python",
   "nbconvert_exporter": "python",
   "pygments_lexer": "ipython3",
   "version": "3.11.9"
  }
 },
 "nbformat": 4,
 "nbformat_minor": 5
}
