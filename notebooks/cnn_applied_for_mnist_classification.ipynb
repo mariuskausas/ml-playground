{
 "cells": [
  {
   "cell_type": "code",
   "execution_count": 1,
   "id": "58065721-090c-4d71-afbe-d37e71034cff",
   "metadata": {},
   "outputs": [],
   "source": [
    "# Import libraries \n",
    "from tqdm import tqdm\n",
    "\n",
    "import numpy as np\n",
    "from sklearn.model_selection import train_test_split\n",
    "\n",
    "import torch\n",
    "from torch import nn\n",
    "import torch.nn.functional as F\n",
    "import torch.optim as optim\n",
    "import torch.utils.data as data_utils\n",
    "from torch.utils.data import TensorDataset, DataLoader, Subset\n",
    "from torchvision import datasets\n",
    "from torchvision.transforms import Compose, ToTensor\n",
    "\n",
    "import matplotlib.pyplot as plt"
   ]
  },
  {
   "cell_type": "markdown",
   "id": "c13d9047-9c50-44a4-80c1-c3b14af9f0f0",
   "metadata": {},
   "source": [
    "#### 1. Prepare functions for model setup and training"
   ]
  },
  {
   "cell_type": "code",
   "execution_count": 2,
   "id": "96b14824-96e4-4aa7-9018-0a0e0d87ae03",
   "metadata": {},
   "outputs": [],
   "source": [
    "def split_train_val_and_test_set(X, Y, train_ratio, validation_ratio, test_ratio):\n",
    "    \"\"\" Split datasets into training, validation, and test sets.\"\"\"\n",
    "    X_train, X_test, Y_train, Y_test = train_test_split(X, Y, train_size=train_ratio)\n",
    "    X_val, X_test, Y_val, Y_test = train_test_split(X_test, Y_test, test_size=test_ratio/(test_ratio + validation_ratio)) \n",
    "    return X_train, Y_train, X_val, Y_val, X_test, Y_test"
   ]
  },
  {
   "cell_type": "code",
   "execution_count": 3,
   "id": "b9e1b026-3000-484e-99f3-2fe5a6883390",
   "metadata": {},
   "outputs": [],
   "source": [
    "class Dataset(torch.utils.data.Dataset):\n",
    "  \"\"\" Characterizes a dataset for PyTorch.\"\"\"\n",
    "    \n",
    "  def __init__(self, X, Y):\n",
    "      \"\"\" Initialize the datasets.\"\"\"\n",
    "      self.X = X\n",
    "      self.Y = Y\n",
    "      \n",
    "  def __len__(self):\n",
    "      \"\"\" Return the number of training examples.\"\"\"\n",
    "      return self.X.shape[0]\n",
    "\n",
    "  def __getitem__(self, index):\n",
    "      \"\"\" Generate one sample of the training data.\"\"\"\n",
    "      x = self.X[index, :]\n",
    "      y = self.Y[index, :]\n",
    "      return x, y"
   ]
  },
  {
   "cell_type": "code",
   "execution_count": 91,
   "id": "87631a02-0819-42fd-b73f-96fd91fdae32",
   "metadata": {},
   "outputs": [],
   "source": [
    "# Define a simple two layer network\n",
    "class CNN(nn.Module):\n",
    "    \"\"\" \n",
    "    Implementation of a general Convolutional Neural Network.\n",
    "\n",
    "    Building blocks: N x CONV -> RELU; N x MAXPOOL; FLATTEN; 2 x FC; SOFTMAX\n",
    "\n",
    "    Model inspiration is based on VGG: https://github.com/pytorch/vision/blob/main/torchvision/models/vgg.py#L308\n",
    "    \"\"\"\n",
    "    \n",
    "    def __init__(self, configuration):\n",
    "        \n",
    "        super().__init__()\n",
    "\n",
    "        self._input_size = configuration[\"input_size\"]\n",
    "        self._number_of_channels = configuration[\"initial_number_of_channels\"]\n",
    "        self._layers = configuration[\"layers\"]\n",
    "        self._num_of_maxpool_layers = self._layers.count(\"maxpool\")\n",
    "        self._size_of_fc = configuration[\"size_of_fc\"]\n",
    "        self._num_of_classes = configuration[\"num_of_classes\"]\n",
    "        self._batch_norm = configuration[\"batch_norm\"]\n",
    "\n",
    "        self._cnn_block = self._define_layers()\n",
    "        self._flatten = nn.Flatten(1)\n",
    "        self._classifier = self._define_classifier()\n",
    "\n",
    "    def _define_layers(self):\n",
    "        \n",
    "        layers = []\n",
    "        for l in self._layers:\n",
    "            if l == \"maxpool\":\n",
    "                layers.append(\n",
    "                    nn.MaxPool2d(\n",
    "                        kernel_size=(2, 2), \n",
    "                        stride=(2, 2), \n",
    "                    ))\n",
    "            else:\n",
    "                layers.append(\n",
    "                    nn.Conv2d(\n",
    "                        in_channels=self._number_of_channels,\n",
    "                        out_channels=l,\n",
    "                        kernel_size=(3, 3),\n",
    "                        stride=(1, 1),\n",
    "                        padding=\"same\"\n",
    "                    ))\n",
    "                if self._batch_norm:\n",
    "                    layers.append(nn.BatchNorm2d(num_features=l))\n",
    "                layers.append(nn.ReLU())\n",
    "                self._number_of_channels = l\n",
    "                \n",
    "        return nn.Sequential(*layers)\n",
    "\n",
    "    def _define_classifier(self):\n",
    "\n",
    "        output_size = int(self._input_size / 2 ** self._num_of_maxpool_layers)\n",
    "        classifier = nn.Sequential(\n",
    "            nn.Linear(\n",
    "                self._number_of_channels * output_size * output_size, self._size_of_fc),\n",
    "            nn.Linear(self._size_of_fc, self._num_of_classes),\n",
    "            nn.Softmax(dim=1),\n",
    "        )\n",
    "        \n",
    "        return classifier\n",
    "\n",
    "    def forward(self, x):\n",
    "        \n",
    "        x = self._cnn_block(x)    \n",
    "        x = self._flatten(x)\n",
    "        x = self._classifier(x)\n",
    "        \n",
    "        return x"
   ]
  },
  {
   "cell_type": "code",
   "execution_count": 83,
   "id": "524fcc6e-08d0-40e1-8125-0c8a6b01e85f",
   "metadata": {},
   "outputs": [
    {
     "data": {
      "text/plain": [
       "CNN(\n",
       "  (_cnn_block): Sequential(\n",
       "    (0): Conv2d(1, 32, kernel_size=(3, 3), stride=(1, 1), padding=same)\n",
       "    (1): BatchNorm2d(32, eps=1e-05, momentum=0.1, affine=True, track_running_stats=True)\n",
       "    (2): ReLU()\n",
       "    (3): MaxPool2d(kernel_size=(2, 2), stride=(2, 2), padding=0, dilation=1, ceil_mode=False)\n",
       "    (4): Conv2d(32, 32, kernel_size=(3, 3), stride=(1, 1), padding=same)\n",
       "    (5): BatchNorm2d(32, eps=1e-05, momentum=0.1, affine=True, track_running_stats=True)\n",
       "    (6): ReLU()\n",
       "    (7): MaxPool2d(kernel_size=(2, 2), stride=(2, 2), padding=0, dilation=1, ceil_mode=False)\n",
       "  )\n",
       "  (_flatten): Flatten(start_dim=1, end_dim=-1)\n",
       "  (_classifier): Sequential(\n",
       "    (0): Linear(in_features=1568, out_features=128, bias=True)\n",
       "    (1): Linear(in_features=128, out_features=10, bias=True)\n",
       "    (2): Softmax(dim=1)\n",
       "  )\n",
       ")"
      ]
     },
     "execution_count": 83,
     "metadata": {},
     "output_type": "execute_result"
    }
   ],
   "source": [
    "# Example configuration of the basic CNN\n",
    "configuration = {\n",
    "    \"input_size\" : 28, # 28 * 28\n",
    "    \"initial_number_of_channels\" : 1,\n",
    "    \"layers\": [32, \"maxpool\", 32, \"maxpool\"],\n",
    "    \"size_of_fc\" : 128,\n",
    "    \"num_of_classes\" : 10,\n",
    "    \"batch_norm\" : True,\n",
    "}\n",
    "model = CNN(configuration=configuration)\n",
    "model"
   ]
  },
  {
   "cell_type": "code",
   "execution_count": 66,
   "id": "27056109-6ba1-4cac-a306-03e5fc32b1f5",
   "metadata": {},
   "outputs": [],
   "source": [
    "def train_loop(dataloader, model, loss_fn, optimizer):\n",
    "    \"\"\" Perform a training loop.\"\"\"\n",
    "    running_loss = 0\n",
    "    \n",
    "    # Set the model to training mode - important for batch normalization and dropout layers\n",
    "    # Unnecessary in this situation but added for best practices\n",
    "    model.train()\n",
    "    \n",
    "    for batch, (X, y) in enumerate(dataloader):\n",
    "        \n",
    "        # Send the batch samples to a device\n",
    "        X, y = X.to(device), y.to(device)\n",
    "        \n",
    "        # Compute prediction and loss\n",
    "        pred = model(X)\n",
    "        loss = loss_fn(pred, y)\n",
    "        running_loss += loss.item()\n",
    "        \n",
    "        # Backpropagation\n",
    "        loss.backward()\n",
    "        # Update model weights\n",
    "        optimizer.step()\n",
    "        # Re-set gradients to zero for next batch\n",
    "        optimizer.zero_grad()\n",
    "\n",
    "    avg_training_loss = running_loss / len(dataloader)\n",
    "    \n",
    "    return avg_training_loss"
   ]
  },
  {
   "cell_type": "code",
   "execution_count": 67,
   "id": "df6fd7c6-dfe4-4404-84eb-5ba3edd18813",
   "metadata": {},
   "outputs": [],
   "source": [
    "def validation_loop(dataloader, model, loss_fn):\n",
    "    \"\"\" Perform a validation loop.\"\"\"\n",
    "    running_loss = 0\n",
    "    \n",
    "    # Set the model to evaluation mode - important for batch normalization and dropout layers\n",
    "    # Unnecessary in this situation but added for best practices\n",
    "    model.eval()\n",
    "\n",
    "    # Evaluating the model with torch.no_grad() ensures that no gradients are computed during test mode\n",
    "    # also serves to reduce unnecessary gradient computations and memory usage for tensors with requires_grad=True\n",
    "    with torch.no_grad():\n",
    "        for X, y in dataloader:\n",
    "\n",
    "            # Send the batch samples to a device\n",
    "            X, y = X.to(device), y.to(device)\n",
    "            \n",
    "            # Compute prediction and loss\n",
    "            pred = model(X)\n",
    "            loss = loss_fn(pred, y)\n",
    "            running_loss += loss.item()\n",
    "\n",
    "    avg_validation_loss = running_loss / len(dataloader)\n",
    "\n",
    "    return avg_validation_loss"
   ]
  },
  {
   "cell_type": "code",
   "execution_count": 68,
   "id": "e1e19fa9-fc48-4813-81cb-d1c07fa0cdb9",
   "metadata": {},
   "outputs": [],
   "source": [
    "def train_model(training_generator, validation_generator, model, loss_fn, optimizer, epochs):\n",
    "    \n",
    "    # Collect results\n",
    "    training_loss = []\n",
    "    validation_loss = []\n",
    "    \n",
    "    for epoch in tqdm(range(epochs)):  # loop over the dataset multiple times\n",
    "\n",
    "        # Perform a training step\n",
    "        running_training_loss = train_loop(\n",
    "            dataloader=training_generator, \n",
    "            model=model,\n",
    "            loss_fn=loss_fn,\n",
    "            optimizer=optimizer\n",
    "        )\n",
    "        training_loss.append(running_training_loss)\n",
    "\n",
    "        # Perform a validation step\n",
    "        running_validation_loss = validation_loop(\n",
    "            dataloader=validation_generator,\n",
    "            model=model,\n",
    "            loss_fn=loss_fn\n",
    "        )\n",
    "        validation_loss.append(running_validation_loss)\n",
    "\n",
    "    return training_loss, validation_loss"
   ]
  },
  {
   "cell_type": "code",
   "execution_count": 69,
   "id": "1af671c5-8a54-431c-9d0b-d4d4b72ca713",
   "metadata": {},
   "outputs": [],
   "source": [
    "def plot_loss(training_loss, validation_loss, model_id):\n",
    "    \"\"\" Plot training and validation losses.\"\"\"\n",
    "    fig = plt.figure(figsize=[5, 3])\n",
    "    ax = fig.add_subplot(111)\n",
    "    ax.plot(training_loss, label=\"Training loss\")\n",
    "    ax.plot(validation_loss, label=\"Validation loss\")\n",
    "    ax.set_title(\"Model: {}\".format(model_id))\n",
    "    ax.legend()"
   ]
  },
  {
   "cell_type": "code",
   "execution_count": 70,
   "id": "4d6b09f9-8809-4655-b5b8-44759ca25ec8",
   "metadata": {},
   "outputs": [],
   "source": [
    "def test_model(model, device, test_loader):\n",
    "    model.eval()\n",
    "    test_loss = 0\n",
    "    correct = 0\n",
    "    with torch.no_grad():\n",
    "        for data, target in test_loader:\n",
    "            data, target = data.to(device), target.to(device)\n",
    "            output = model(data)\n",
    "            test_loss += F.cross_entropy(output, target, reduction='sum').item()  # sum up batch loss\n",
    "            pred = output.argmax(dim=1, keepdim=True)  # get the index of the max log-probability\n",
    "            correct += pred.eq(target.view_as(pred)).sum().item()\n",
    "\n",
    "    test_loss /= len(test_loader.dataset)\n",
    "\n",
    "    print('\\nTest set: Average loss: {:.4f}, Accuracy: {}/{} ({:.0f}%)\\n'.format(\n",
    "        test_loss, correct, len(test_loader.dataset),\n",
    "        100. * correct / len(test_loader.dataset)))"
   ]
  },
  {
   "cell_type": "code",
   "execution_count": 71,
   "id": "6f43914b-e1fa-47e4-be3b-20657408cccb",
   "metadata": {},
   "outputs": [],
   "source": [
    "# Define training tools\n",
    "loss_functions = {\n",
    "    \"binary_cross_entropy\": nn.BCELoss,\n",
    "    \"cross_entropy\": nn.CrossEntropyLoss,\n",
    "    \"mse_loss\": nn.MSELoss,\n",
    "}\n",
    "optimizers = {\n",
    "    \"SGD\": optim.SGD,\n",
    "    \"Adam\": optim.Adam,\n",
    "}\n",
    "# Search for a device\n",
    "device = (\n",
    "    \"cuda:0\"\n",
    "    if torch.cuda.is_available()\n",
    "    else \"cpu\"\n",
    ")"
   ]
  },
  {
   "cell_type": "markdown",
   "id": "954bcecd-69e7-45f2-8dab-a7413b1efd9a",
   "metadata": {},
   "source": [
    "#### 2. Configuration"
   ]
  },
  {
   "cell_type": "code",
   "execution_count": 72,
   "id": "0ca6e599-4a9f-46ac-abe9-ba58df54eced",
   "metadata": {},
   "outputs": [],
   "source": [
    "# Define parameters configuration\n",
    "# https://github.com/victoresque/pytorch-template/blob/master/README.md\n",
    "params = {\n",
    "    \"data_splitting\" : {\n",
    "        \"train_ratio\": 0.8,\n",
    "        \"validation_ratio\": 0.1,\n",
    "        \"test_ratio\": 0.1,\n",
    "    },\n",
    "    \n",
    "    \"dataloader\": {\n",
    "        \"batch_size\": 16,\n",
    "        \"shuffle\": True,\n",
    "        \"num_workers\" : 0\n",
    "    },\n",
    "    \n",
    "    \"loss\": {\n",
    "        \"type\": \"cross_entropy\",\n",
    "        \"params\" : {\n",
    "            \"reduction\": \"mean\"\n",
    "        }\n",
    "    },\n",
    "\n",
    "    \"optimizer\": {\n",
    "        \"type\": \"Adam\",\n",
    "        \"params\": {\n",
    "            \"lr\": 0.001,\n",
    "            \"betas\": (0.9, 0.999), \n",
    "            \"eps\": 1e-08,\n",
    "            \"weight_decay\": 0.001,\n",
    "            # \"momentum\": 0,\n",
    "            # \"weight_decay\": 0.001,\n",
    "        }\n",
    "    },\n",
    "\n",
    "    \"training\": {\n",
    "        \"epochs\" : 10\n",
    "    },\n",
    "}  "
   ]
  },
  {
   "cell_type": "markdown",
   "id": "c20a9fec-0c81-415b-a50e-cb2cfce34f24",
   "metadata": {},
   "source": [
    "#### 3. Prepare training, validation, and test sets"
   ]
  },
  {
   "cell_type": "code",
   "execution_count": 73,
   "id": "71eafeb0-ec3b-4ced-aa27-0716f51c1f44",
   "metadata": {},
   "outputs": [],
   "source": [
    "# Load the training data\n",
    "mnist_train = datasets.MNIST(\n",
    "    root=\"datasets\",\n",
    "    train=True,\n",
    "    download=True,\n",
    "    transform=Compose([\n",
    "        ToTensor(),\n",
    "    ]))\n",
    "\n",
    "# Load the test data\n",
    "mnist_test = datasets.MNIST(\n",
    "    root=\"data\",\n",
    "    train=False,\n",
    "    download=True,\n",
    "    transform=Compose([\n",
    "        ToTensor(),\n",
    "    ]))"
   ]
  },
  {
   "cell_type": "code",
   "execution_count": 74,
   "id": "3520bbc8-76ea-4562-ac39-fa54b1ec6f03",
   "metadata": {},
   "outputs": [
    {
     "data": {
      "image/png": "[encoded data removed]",
      "text/plain": [
       "<Figure size 800x800 with 9 Axes>"
      ]
     },
     "metadata": {},
     "output_type": "display_data"
    }
   ],
   "source": [
    "# Visualize the results\n",
    "figure = plt.figure(figsize=(8, 8))\n",
    "cols, rows = 3, 3\n",
    "for i in range(1, cols * rows + 1):\n",
    "    sample_idx = torch.randint(len(mnist_train), size=(1,)).item()\n",
    "    img, label = mnist_train[sample_idx]\n",
    "    figure.add_subplot(rows, cols, i)\n",
    "    plt.title(label)\n",
    "    plt.axis(\"off\")\n",
    "    plt.imshow(img.squeeze(), cmap=\"gray\")\n",
    "plt.show()"
   ]
  },
  {
   "cell_type": "code",
   "execution_count": 75,
   "id": "1541846b-0945-4cb2-a70f-035b45409b67",
   "metadata": {},
   "outputs": [],
   "source": [
    "# Generate indices: instead of the actual data we pass in integers instead\n",
    "train_indices, val_indices, _, _ = train_test_split(\n",
    "    range(len(mnist_train)),\n",
    "    mnist_train.targets,\n",
    "    stratify=mnist_train.targets,\n",
    "    test_size=0.1,\n",
    ")"
   ]
  },
  {
   "cell_type": "code",
   "execution_count": 76,
   "id": "6441467e-4a10-453e-9ff9-f919ba3bf451",
   "metadata": {},
   "outputs": [],
   "source": [
    "# Generate a subset based on indices\n",
    "training_dataset = Subset(mnist_train, train_indices)\n",
    "validation_dataset = Subset(mnist_train, val_indices)"
   ]
  },
  {
   "cell_type": "code",
   "execution_count": 77,
   "id": "0e67d557-b58c-4ade-a0cb-a577b2c5c4f6",
   "metadata": {},
   "outputs": [],
   "source": [
    "# Create generators\n",
    "training_generator = DataLoader(training_dataset, **params[\"dataloader\"])\n",
    "validation_generator = DataLoader(validation_dataset, **params[\"dataloader\"])\n",
    "test_generator = DataLoader(mnist_test, **params[\"dataloader\"])"
   ]
  },
  {
   "cell_type": "markdown",
   "id": "6ffd8cb6-d822-43dd-8735-fe4252d7add6",
   "metadata": {},
   "source": [
    "#### 4. Initialize the model"
   ]
  },
  {
   "cell_type": "code",
   "execution_count": 92,
   "id": "b59f1d20-92f5-4973-8a20-5442939962b3",
   "metadata": {},
   "outputs": [],
   "source": [
    "# Instantiate a model\n",
    "configuration = {\n",
    "    \"input_size\" : 28, # 28 * 28\n",
    "    \"initial_number_of_channels\" : 1,\n",
    "    \"layers\": [32, \"maxpool\", 32, \"maxpool\"],\n",
    "    \"size_of_fc\" : 128,\n",
    "    \"num_of_classes\" : 10,\n",
    "    \"batch_norm\" : True,\n",
    "}\n",
    "model = CNN(configuration=configuration)\n",
    "# Transfer the model to device\n",
    "model.to(device)\n",
    "\n",
    "# Number of epochs\n",
    "epochs = params[\"training\"][\"epochs\"]\n",
    "# Define a binary cross entropy loss\n",
    "loss_fn = loss_functions[params[\"loss\"][\"type\"]](**params[\"loss\"][\"params\"])\n",
    "# Define a stochastic gradient descent as an optimizer\n",
    "optimizer = optimizers[params[\"optimizer\"][\"type\"]](model.parameters(), **params[\"optimizer\"][\"params\"])"
   ]
  },
  {
   "cell_type": "markdown",
   "id": "192cce0f-5444-44f8-9a6d-265f39988cd8",
   "metadata": {},
   "source": [
    "#### 5. Train the model and check performance"
   ]
  },
  {
   "cell_type": "code",
   "execution_count": 93,
   "id": "ebaa739e-371c-4a15-a348-938ec5188c23",
   "metadata": {},
   "outputs": [
    {
     "name": "stderr",
     "output_type": "stream",
     "text": [
      "100%|███████████████████████████████████████████████████████████████████████████████████| 10/10 [01:36<00:00,  9.64s/it]\n"
     ]
    }
   ],
   "source": [
    "# Train and evaluate the model\n",
    "training_loss, validation_loss = train_model(\n",
    "    training_generator=training_generator, \n",
    "    validation_generator=validation_generator, \n",
    "    model=model, \n",
    "    loss_fn=loss_fn, \n",
    "    optimizer=optimizer, \n",
    "    epochs=epochs\n",
    ")"
   ]
  },
  {
   "cell_type": "code",
   "execution_count": 94,
   "id": "4c59eb75-7f1f-4860-a36b-20edb5877e65",
   "metadata": {},
   "outputs": [
    {
     "data": {
      "image/png": "[encoded data removed]",
      "text/plain": [
       "<Figure size 500x300 with 1 Axes>"
      ]
     },
     "metadata": {},
     "output_type": "display_data"
    }
   ],
   "source": [
    "plot_loss(training_loss, validation_loss, \"LLayer\")"
   ]
  },
  {
   "cell_type": "code",
   "execution_count": 88,
   "id": "4a12dcb9-d0cc-401d-b194-1429679444e0",
   "metadata": {},
   "outputs": [],
   "source": [
    "def test_model(model, device, test_loader):\n",
    "    model.eval()\n",
    "    test_loss = 0\n",
    "    correct = 0\n",
    "    with torch.no_grad():\n",
    "        for data, target in test_loader:\n",
    "            data, target = data.to(device), target.to(device)\n",
    "            output = model(data)\n",
    "            test_loss += F.cross_entropy(output, target, reduction='sum').item()  # sum up batch loss\n",
    "            pred = output.argmax(dim=1, keepdim=True)  # get the index of the max log-probability\n",
    "            correct += pred.eq(target.view_as(pred)).sum().item()\n",
    "\n",
    "    test_loss /= len(test_loader.dataset)\n",
    "\n",
    "    print('\\nTest set: Average loss: {:.4f}, Accuracy: {}/{} ({:.0f}%)\\n'.format(\n",
    "        test_loss, correct, len(test_loader.dataset),\n",
    "        100. * correct / len(test_loader.dataset)))"
   ]
  },
  {
   "cell_type": "code",
   "execution_count": 95,
   "id": "5b25275b-efcb-4617-9f7f-47a24dbefe96",
   "metadata": {},
   "outputs": [
    {
     "name": "stdout",
     "output_type": "stream",
     "text": [
      "\n",
      "Test set: Average loss: 1.4829, Accuracy: 9821/10000 (98%)\n",
      "\n"
     ]
    }
   ],
   "source": [
    "test_model(model=model, device=device, test_loader=test_generator)"
   ]
  },
  {
   "cell_type": "code",
   "execution_count": null,
   "id": "64280cad-fea3-4b4a-bb00-9863f003b1c9",
   "metadata": {},
   "outputs": [],
   "source": []
  }
 ],
 "metadata": {
  "kernelspec": {
   "display_name": "Python [conda env:aiml]",
   "language": "python",
   "name": "conda-env-aiml-py"
  },
  "language_info": {
   "codemirror_mode": {
    "name": "ipython",
    "version": 3
   },
   "file_extension": ".py",
   "mimetype": "text/x-python",
   "name": "python",
   "nbconvert_exporter": "python",
   "pygments_lexer": "ipython3",
   "version": "3.11.9"
  }
 },
 "nbformat": 4,
 "nbformat_minor": 5
}
