{
 "cells": [
  {
   "cell_type": "code",
   "execution_count": 1,
   "id": "34010cc9-e0ce-455e-873b-219f1719f610",
   "metadata": {},
   "outputs": [],
   "source": [
    "# Import libraries \n",
    "from tqdm import tqdm\n",
    "\n",
    "import numpy as np\n",
    "from sklearn.model_selection import train_test_split\n",
    "\n",
    "import torch\n",
    "from torch import nn\n",
    "import torch.nn.functional as F\n",
    "import torch.optim as optim\n",
    "import torch.utils.data as data_utils\n",
    "from torch.utils.data import TensorDataset, DataLoader, Subset\n",
    "from torchvision import datasets\n",
    "from torchvision.transforms import Compose, ToTensor\n",
    "\n",
    "import matplotlib.pyplot as plt"
   ]
  },
  {
   "cell_type": "markdown",
   "id": "676b48b1-e0de-4f8a-a56e-fdae4dc1dbab",
   "metadata": {},
   "source": [
    "#### 1. Prepare functions for model setup and training"
   ]
  },
  {
   "cell_type": "code",
   "execution_count": 2,
   "id": "ccd7c89d-f567-4034-acc0-5771f54ef0c9",
   "metadata": {},
   "outputs": [],
   "source": [
    "def split_train_val_and_test_set(X, Y, train_ratio, validation_ratio, test_ratio):\n",
    "    \"\"\" Split datasets into training, validation, and test sets.\"\"\"\n",
    "    X_train, X_test, Y_train, Y_test = train_test_split(X, Y, train_size=train_ratio)\n",
    "    X_val, X_test, Y_val, Y_test = train_test_split(X_test, Y_test, test_size=test_ratio/(test_ratio + validation_ratio)) \n",
    "    return X_train, Y_train, X_val, Y_val, X_test, Y_test"
   ]
  },
  {
   "cell_type": "code",
   "execution_count": 3,
   "id": "de87cbdb-5312-4709-99e7-3a7c80e3c725",
   "metadata": {},
   "outputs": [],
   "source": [
    "class Dataset(torch.utils.data.Dataset):\n",
    "  \"\"\" Characterizes a dataset for PyTorch.\"\"\"\n",
    "    \n",
    "  def __init__(self, X, Y):\n",
    "      \"\"\" Initialize the datasets.\"\"\"\n",
    "      self.X = X\n",
    "      self.Y = Y\n",
    "      \n",
    "  def __len__(self):\n",
    "      \"\"\" Return the number of training examples.\"\"\"\n",
    "      return self.X.shape[0]\n",
    "\n",
    "  def __getitem__(self, index):\n",
    "      \"\"\" Generate one sample of the training data.\"\"\"\n",
    "      x = self.X[index, :]\n",
    "      y = self.Y[index, :]\n",
    "      return x, y"
   ]
  },
  {
   "cell_type": "code",
   "execution_count": 4,
   "id": "c9ccb575-9880-4a71-a782-6547e1bb46a5",
   "metadata": {},
   "outputs": [],
   "source": [
    "class Autoencoder(nn.Module):\n",
    "    \"\"\" \n",
    "    Implementation of a basic Autoencoder.\n",
    "    \"\"\"\n",
    "    \n",
    "    def __init__(self, input_size):\n",
    "        super().__init__()\n",
    "        self._input_size = input_size\n",
    "\n",
    "        self.encoder = nn.Sequential(\n",
    "            nn.Linear(input_size, 128),\n",
    "            nn.ReLU(),            \n",
    "            nn.Linear(128, 64),\n",
    "            nn.ReLU(),\n",
    "            nn.Linear(64, 32),\n",
    "        )\n",
    "        \n",
    "        self.decoder = nn.Sequential(\n",
    "            nn.Linear(32, 64),\n",
    "            nn.ReLU(),\n",
    "            nn.Linear(64, 128),\n",
    "            nn.ReLU(),\n",
    "            nn.Linear(128, input_size),\n",
    "            nn.Sigmoid()\n",
    "        )\n",
    "  \n",
    "    def forward(self, x):\n",
    "        \n",
    "        encoded = self.encoder(x)    \n",
    "        decoded = self.decoder(encoded)\n",
    "        \n",
    "        return decoded"
   ]
  },
  {
   "cell_type": "code",
   "execution_count": 5,
   "id": "3e30092d-ccaa-4cd9-a58d-64fcae882150",
   "metadata": {},
   "outputs": [],
   "source": [
    "def train_loop(dataloader, model, loss_fn, optimizer):\n",
    "    \"\"\" Perform a training loop.\"\"\"\n",
    "    running_loss = 0\n",
    "    \n",
    "    # Set the model to training mode - important for batch normalization and dropout layers\n",
    "    # Unnecessary in this situation but added for best practices\n",
    "    model.train()\n",
    "    \n",
    "    for batch, (X, y) in enumerate(dataloader):\n",
    "        \n",
    "        # Send the batch samples to a device\n",
    "        X, y = X.to(device), y.to(device)\n",
    "        \n",
    "        # Compute prediction and loss\n",
    "        decoded = model(X)\n",
    "        loss = loss_fn(decoded, X)\n",
    "        running_loss += loss.item()\n",
    "        \n",
    "        # Backpropagation\n",
    "        loss.backward()\n",
    "        # Update model weights\n",
    "        optimizer.step()\n",
    "        # Re-set gradients to zero for next batch\n",
    "        optimizer.zero_grad()\n",
    "\n",
    "    avg_training_loss = running_loss / len(dataloader)\n",
    "    \n",
    "    return avg_training_loss"
   ]
  },
  {
   "cell_type": "code",
   "execution_count": 6,
   "id": "3239490b-2dfc-4473-82ce-4fcbcd11981c",
   "metadata": {},
   "outputs": [],
   "source": [
    "def validation_loop(dataloader, model, loss_fn):\n",
    "    \"\"\" Perform a validation loop.\"\"\"\n",
    "    running_loss = 0\n",
    "    \n",
    "    # Set the model to evaluation mode - important for batch normalization and dropout layers\n",
    "    # Unnecessary in this situation but added for best practices\n",
    "    model.eval()\n",
    "\n",
    "    # Evaluating the model with torch.no_grad() ensures that no gradients are computed during test mode\n",
    "    # also serves to reduce unnecessary gradient computations and memory usage for tensors with requires_grad=True\n",
    "    with torch.no_grad():\n",
    "        for X, y in dataloader:\n",
    "\n",
    "            # Send the batch samples to a device\n",
    "            X, y = X.to(device), y.to(device)\n",
    "            \n",
    "            # Compute prediction and loss\n",
    "            decoded = model(X)\n",
    "            loss = loss_fn(decoded, X)\n",
    "            running_loss += loss.item()\n",
    "\n",
    "    avg_validation_loss = running_loss / len(dataloader)\n",
    "\n",
    "    return avg_validation_loss"
   ]
  },
  {
   "cell_type": "code",
   "execution_count": 7,
   "id": "74a351fb-d6fc-43b3-bc62-f9a078f38f44",
   "metadata": {},
   "outputs": [],
   "source": [
    "def train_model(training_generator, validation_generator, model, loss_fn, optimizer, epochs):\n",
    "    \n",
    "    # Collect results\n",
    "    training_loss = []\n",
    "    validation_loss = []\n",
    "    \n",
    "    for epoch in tqdm(range(epochs)):  # loop over the dataset multiple times\n",
    "\n",
    "        # Perform a training step\n",
    "        running_training_loss = train_loop(\n",
    "            dataloader=training_generator, \n",
    "            model=model,\n",
    "            loss_fn=loss_fn,\n",
    "            optimizer=optimizer\n",
    "        )\n",
    "        training_loss.append(running_training_loss)\n",
    "\n",
    "        # Perform a validation step\n",
    "        running_validation_loss = validation_loop(\n",
    "            dataloader=validation_generator,\n",
    "            model=model,\n",
    "            loss_fn=loss_fn\n",
    "        )\n",
    "        validation_loss.append(running_validation_loss)\n",
    "\n",
    "    return training_loss, validation_loss"
   ]
  },
  {
   "cell_type": "code",
   "execution_count": 8,
   "id": "a7f948c1-8fb5-44bc-93c6-44c110cad306",
   "metadata": {},
   "outputs": [],
   "source": [
    "def plot_loss(training_loss, validation_loss, model_id):\n",
    "    \"\"\" Plot training and validation losses.\"\"\"\n",
    "    fig = plt.figure(figsize=[5, 3])\n",
    "    ax = fig.add_subplot(111)\n",
    "    ax.plot(training_loss, label=\"Training loss\")\n",
    "    ax.plot(validation_loss, label=\"Validation loss\")\n",
    "    ax.set_title(\"Model: {}\".format(model_id))\n",
    "    ax.legend()"
   ]
  },
  {
   "cell_type": "code",
   "execution_count": 9,
   "id": "7ec4ae1d-d175-47a0-8c5e-6bcfbc0d0aed",
   "metadata": {},
   "outputs": [],
   "source": [
    "def test_model(model, device, test_loader):\n",
    "    model.eval()\n",
    "    test_loss = 0\n",
    "    with torch.no_grad():\n",
    "        for X, _ in test_loader:\n",
    "            X  = X.to(device)\n",
    "            output = model(X)\n",
    "            test_loss += F.mse_loss(output, X, reduction='sum').item()\n",
    "\n",
    "    test_loss /= len(test_loader.dataset)\n",
    "\n",
    "    print('\\nTest set: Average MSE loss: {:.4f}\\n'.format(test_loss))"
   ]
  },
  {
   "cell_type": "code",
   "execution_count": 10,
   "id": "c8b4b9db-9b07-4065-97b4-ffaf9fe1d9a9",
   "metadata": {},
   "outputs": [],
   "source": [
    "# Define training tools\n",
    "loss_functions = {\n",
    "    \"binary_cross_entropy\": nn.BCELoss,\n",
    "    \"cross_entropy\": nn.CrossEntropyLoss,\n",
    "    \"mse_loss\": nn.MSELoss,\n",
    "}\n",
    "optimizers = {\n",
    "    \"SGD\": optim.SGD,\n",
    "    \"Adam\": optim.Adam,\n",
    "}\n",
    "# Search for a device\n",
    "device = (\n",
    "    \"cuda:0\"\n",
    "    if torch.cuda.is_available()\n",
    "    else \"cpu\"\n",
    ")"
   ]
  },
  {
   "cell_type": "markdown",
   "id": "6c747d50-3c35-4364-8fca-62a40eeed104",
   "metadata": {},
   "source": [
    "#### 2. Configuration"
   ]
  },
  {
   "cell_type": "code",
   "execution_count": 11,
   "id": "001fac8d-07b1-4270-b5d8-d3c678318594",
   "metadata": {},
   "outputs": [],
   "source": [
    "# Define parameters configuration\n",
    "# https://github.com/victoresque/pytorch-template/blob/master/README.md\n",
    "params = {\n",
    "    \"data_splitting\" : {\n",
    "        \"train_ratio\": 0.8,\n",
    "        \"validation_ratio\": 0.1,\n",
    "        \"test_ratio\": 0.1,\n",
    "    },\n",
    "    \n",
    "    \"dataloader\": {\n",
    "        \"batch_size\": 32,\n",
    "        \"shuffle\": True,\n",
    "        \"num_workers\" : 0\n",
    "    },\n",
    "    \n",
    "    \"loss\": {\n",
    "        \"type\": \"mse_loss\",\n",
    "        \"params\" : {\n",
    "            \"reduction\": \"mean\"\n",
    "        }\n",
    "    },\n",
    "\n",
    "    \"optimizer\": {\n",
    "        \"type\": \"Adam\",\n",
    "        \"params\": {\n",
    "            \"lr\": 0.0001,\n",
    "            \"betas\": (0.9, 0.999), \n",
    "            \"eps\": 1e-08,\n",
    "            \"weight_decay\": 1e-8,\n",
    "            # \"momentum\": 0,\n",
    "            # \"weight_decay\": 0.001,\n",
    "        }\n",
    "    },\n",
    "\n",
    "    \"training\": {\n",
    "        \"epochs\" : 15\n",
    "    },\n",
    "}  "
   ]
  },
  {
   "cell_type": "markdown",
   "id": "483002a1-5ddf-46be-b927-e8751b91ebd4",
   "metadata": {},
   "source": [
    "#### 3. Prepare training, validation, and test sets"
   ]
  },
  {
   "cell_type": "code",
   "execution_count": 12,
   "id": "cf09398a-93d0-42af-895b-258d1bede258",
   "metadata": {},
   "outputs": [],
   "source": [
    "# Load the training data\n",
    "mnist_train = datasets.MNIST(\n",
    "    root=\"datasets\",\n",
    "    train=True,\n",
    "    download=True,\n",
    "    transform=Compose([\n",
    "        ToTensor(),\n",
    "        torch.flatten,\n",
    "    ]))\n",
    "\n",
    "# Load the test data\n",
    "mnist_test = datasets.MNIST(\n",
    "    root=\"data\",\n",
    "    train=False,\n",
    "    download=True,\n",
    "    transform=Compose([\n",
    "        ToTensor(),\n",
    "        torch.flatten,\n",
    "    ]))"
   ]
  },
  {
   "cell_type": "code",
   "execution_count": 13,
   "id": "bab30200-4a63-49cc-9d27-6437fb17b619",
   "metadata": {},
   "outputs": [],
   "source": [
    "# # Visualize the results\n",
    "# figure = plt.figure(figsize=(8, 8))\n",
    "# cols, rows = 3, 3\n",
    "# for i in range(1, cols * rows + 1):\n",
    "#     sample_idx = torch.randint(len(mnist_train), size=(1,)).item()\n",
    "#     img, label = mnist_train[sample_idx]\n",
    "#     figure.add_subplot(rows, cols, i)\n",
    "#     plt.title(label)\n",
    "#     plt.axis(\"off\")\n",
    "#     plt.imshow(img.squeeze(), cmap=\"gray\")\n",
    "# plt.show()"
   ]
  },
  {
   "cell_type": "code",
   "execution_count": 14,
   "id": "2ad8795d-d536-4745-af53-f12fb1e3fb04",
   "metadata": {},
   "outputs": [],
   "source": [
    "# Generate indices: instead of the actual data we pass in integers instead\n",
    "train_indices, val_indices, _, _ = train_test_split(\n",
    "    range(len(mnist_train)),\n",
    "    mnist_train.targets,\n",
    "    stratify=mnist_train.targets,\n",
    "    test_size=0.1,\n",
    ")"
   ]
  },
  {
   "cell_type": "code",
   "execution_count": 15,
   "id": "db00e308-731a-4a30-b5a6-160533719850",
   "metadata": {},
   "outputs": [],
   "source": [
    "# Generate a subset based on indices\n",
    "training_dataset = Subset(mnist_train, train_indices)\n",
    "validation_dataset = Subset(mnist_train, val_indices)"
   ]
  },
  {
   "cell_type": "code",
   "execution_count": 16,
   "id": "b9884809-e8d3-4fcc-baa4-a39c2ab33e3f",
   "metadata": {},
   "outputs": [],
   "source": [
    "# Create generators\n",
    "training_generator = DataLoader(training_dataset, **params[\"dataloader\"])\n",
    "validation_generator = DataLoader(validation_dataset, **params[\"dataloader\"])\n",
    "test_generator = DataLoader(mnist_test, **params[\"dataloader\"])"
   ]
  },
  {
   "cell_type": "markdown",
   "id": "6e884808-b7a0-471f-a6f8-c1806ee22031",
   "metadata": {},
   "source": [
    "#### 4. Initialize the model"
   ]
  },
  {
   "cell_type": "code",
   "execution_count": 17,
   "id": "71c71f88-842a-49ec-b618-2b24d86cf31d",
   "metadata": {},
   "outputs": [
    {
     "data": {
      "text/plain": [
       "Autoencoder(\n",
       "  (encoder): Sequential(\n",
       "    (0): Linear(in_features=784, out_features=128, bias=True)\n",
       "    (1): ReLU()\n",
       "    (2): Linear(in_features=128, out_features=64, bias=True)\n",
       "    (3): ReLU()\n",
       "    (4): Linear(in_features=64, out_features=32, bias=True)\n",
       "  )\n",
       "  (decoder): Sequential(\n",
       "    (0): Linear(in_features=32, out_features=64, bias=True)\n",
       "    (1): ReLU()\n",
       "    (2): Linear(in_features=64, out_features=128, bias=True)\n",
       "    (3): ReLU()\n",
       "    (4): Linear(in_features=128, out_features=784, bias=True)\n",
       "    (5): Sigmoid()\n",
       "  )\n",
       ")"
      ]
     },
     "execution_count": 17,
     "metadata": {},
     "output_type": "execute_result"
    }
   ],
   "source": [
    "# Instantiate a model\n",
    "autoencoder = Autoencoder(input_size=28*28)\n",
    "# Transfer the model to device\n",
    "autoencoder.to(device)"
   ]
  },
  {
   "cell_type": "code",
   "execution_count": 18,
   "id": "e6f62c62-b96a-45f2-973a-5c77ccb15f98",
   "metadata": {},
   "outputs": [],
   "source": [
    "# Number of epochs\n",
    "epochs = params[\"training\"][\"epochs\"]\n",
    "# Define a binary cross entropy loss\n",
    "loss_fn = loss_functions[params[\"loss\"][\"type\"]](**params[\"loss\"][\"params\"])\n",
    "# Define a stochastic gradient descent as an optimizer\n",
    "optimizer = optimizers[params[\"optimizer\"][\"type\"]](autoencoder.parameters(), **params[\"optimizer\"][\"params\"])"
   ]
  },
  {
   "cell_type": "markdown",
   "id": "58096592-4910-4f61-afea-c33e23f6b3f1",
   "metadata": {},
   "source": [
    "#### 5. Train the model and check performance"
   ]
  },
  {
   "cell_type": "code",
   "execution_count": 19,
   "id": "f4f20797-dfc2-4338-a636-cb0c569406f5",
   "metadata": {},
   "outputs": [
    {
     "name": "stderr",
     "output_type": "stream",
     "text": [
      "100%|███████████████████████████████████████████████████████████████████████████████████| 15/15 [01:19<00:00,  5.30s/it]\n"
     ]
    }
   ],
   "source": [
    "# Train and evaluate the model\n",
    "training_loss, validation_loss = train_model(\n",
    "    training_generator=training_generator, \n",
    "    validation_generator=validation_generator, \n",
    "    model=autoencoder, \n",
    "    loss_fn=loss_fn, \n",
    "    optimizer=optimizer, \n",
    "    epochs=epochs\n",
    ")"
   ]
  },
  {
   "cell_type": "code",
   "execution_count": 20,
   "id": "2b64e065-5372-46af-8ca2-f7291f21d4fd",
   "metadata": {},
   "outputs": [
    {
     "data": {
      "image/png": "[encoded data removed]",
      "text/plain": [
       "<Figure size 500x300 with 1 Axes>"
      ]
     },
     "metadata": {},
     "output_type": "display_data"
    }
   ],
   "source": [
    "plot_loss(training_loss, validation_loss, \"autoencoder\")"
   ]
  },
  {
   "cell_type": "code",
   "execution_count": 21,
   "id": "c0e852c9-b43d-4c84-b653-1e47c0eb1a4b",
   "metadata": {},
   "outputs": [
    {
     "name": "stdout",
     "output_type": "stream",
     "text": [
      "\n",
      "Test set: Average MSE loss: 13.4806\n",
      "\n"
     ]
    }
   ],
   "source": [
    "test_model(model=autoencoder, device=device, test_loader=test_generator)"
   ]
  },
  {
   "cell_type": "code",
   "execution_count": 25,
   "id": "42daf9fa-1db9-406c-8943-468d6fbe6df5",
   "metadata": {},
   "outputs": [],
   "source": [
    "def decode(model, X):\n",
    "    \"\"\" Get an example of a decoded image.\"\"\"\n",
    "    \n",
    "    # Set the model to evaluation mode - important for batch normalization and dropout layers\n",
    "    # Unnecessary in this situation but added for best practices\n",
    "    model.eval()\n",
    "\n",
    "    # Evaluating the model with torch.no_grad() ensures that no gradients are computed during test mode\n",
    "    # also serves to reduce unnecessary gradient computations and memory usage for tensors with requires_grad=True\n",
    "    with torch.no_grad():\n",
    "            \n",
    "        # Compute prediction and loss\n",
    "        decoded = model(X)\n",
    "\n",
    "    return decoded"
   ]
  },
  {
   "cell_type": "code",
   "execution_count": 26,
   "id": "2e0468f2-c593-4430-8134-2cd2f47f0da8",
   "metadata": {},
   "outputs": [
    {
     "data": {
      "text/plain": [
       "<matplotlib.image.AxesImage at 0x7f4162cd41d0>"
      ]
     },
     "execution_count": 26,
     "metadata": {},
     "output_type": "execute_result"
    },
    {
     "data": {
      "image/png": "[encoded data removed]",
      "text/plain": [
       "<Figure size 640x480 with 1 Axes>"
      ]
     },
     "metadata": {},
     "output_type": "display_data"
    }
   ],
   "source": [
    "plt.imshow(test_generator.dataset.data[34])"
   ]
  },
  {
   "cell_type": "code",
   "execution_count": 27,
   "id": "256e12c4-50d4-4bab-8106-d5a593bc220a",
   "metadata": {},
   "outputs": [],
   "source": [
    "img_example = test_generator.dataset.data[34]\n",
    "img_example = test_generator.dataset.transform(img_example.numpy())"
   ]
  },
  {
   "cell_type": "code",
   "execution_count": 28,
   "id": "2f85818e-2ccc-4f4f-b9c4-1bce54096a54",
   "metadata": {},
   "outputs": [
    {
     "data": {
      "text/plain": [
       "<matplotlib.image.AxesImage at 0x7f412420c1d0>"
      ]
     },
     "execution_count": 28,
     "metadata": {},
     "output_type": "execute_result"
    },
    {
     "data": {
      "image/png": "[encoded data removed]",
      "text/plain": [
       "<Figure size 640x480 with 1 Axes>"
      ]
     },
     "metadata": {},
     "output_type": "display_data"
    }
   ],
   "source": [
    "decoded_img = decode(\n",
    "    model=autoencoder, \n",
    "    X=img_example.reshape(-1, 28 * 28).to(device).type(torch.float),\n",
    ")\n",
    "plt.imshow(decoded_img.reshape(28, 28).cpu())"
   ]
  },
  {
   "cell_type": "code",
   "execution_count": null,
   "id": "e92991ee-1dec-4eb1-8267-4392ea5c24ed",
   "metadata": {},
   "outputs": [],
   "source": []
  }
 ],
 "metadata": {
  "kernelspec": {
   "display_name": "Python [conda env:aiml]",
   "language": "python",
   "name": "conda-env-aiml-py"
  },
  "language_info": {
   "codemirror_mode": {
    "name": "ipython",
    "version": 3
   },
   "file_extension": ".py",
   "mimetype": "text/x-python",
   "name": "python",
   "nbconvert_exporter": "python",
   "pygments_lexer": "ipython3",
   "version": "3.11.9"
  }
 },
 "nbformat": 4,
 "nbformat_minor": 5
}
